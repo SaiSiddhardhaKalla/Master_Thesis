{
 "cells": [
  {
   "cell_type": "markdown",
   "metadata": {},
   "source": [
    "## District Income"
   ]
  },
  {
   "cell_type": "markdown",
   "metadata": {},
   "source": [
    "### Dist NTL"
   ]
  },
  {
   "cell_type": "code",
   "execution_count": null,
   "metadata": {},
   "outputs": [],
   "source": [
    "import pandas as pd"
   ]
  },
  {
   "cell_type": "code",
   "execution_count": null,
   "metadata": {},
   "outputs": [],
   "source": [
    "n21 = pd.read_csv('/Users/sid/Library/CloudStorage/OneDrive-DeakinUniversity/UDocs - D/DataSets/VIIRS_Monthly_Tiled/2021/ts_dist_21.csv')\n",
    "n19 = pd.read_csv('/Users/sid/Library/CloudStorage/OneDrive-DeakinUniversity/UDocs - D/DataSets/VIIRS_Monthly_Tiled/2019/ts_dist_19.csv')\n",
    "n18 = pd.read_csv('/Users/sid/Library/CloudStorage/OneDrive-DeakinUniversity/UDocs - D/DataSets/VIIRS_Monthly_Tiled/2018/ts_dist_18.csv')\n",
    "n17 = pd.read_csv('/Users/sid/Library/CloudStorage/OneDrive-DeakinUniversity/UDocs - D/DataSets/VIIRS_Monthly_Tiled/2017/ts_dist_17.csv')\n",
    "n16 = pd.read_csv('/Users/sid/Library/CloudStorage/OneDrive-DeakinUniversity/UDocs - D/DataSets/VIIRS_Monthly_Tiled/2016/ts_dist_16.csv')\n"
   ]
  },
  {
   "cell_type": "code",
   "execution_count": null,
   "metadata": {},
   "outputs": [],
   "source": [
    "# Create a list of dfs\n",
    "df_list = [n21, n19, n18, n17, n16]\n",
    "\n",
    "for df in df_list:\n",
    "    # Select the last 12 columns (excluding the first 11 columns)\n",
    "    last_12_cols = df.iloc[:, -12:]\n",
    "\n",
    "    # Replace 0 values with NaN in the last 12 columns\n",
    "    last_12_cols = last_12_cols.replace(0, pd.NA)\n",
    "\n",
    "    # Calculate the row-wise mean and standard deviation\n",
    "    row_mean = last_12_cols.mean(axis=1)\n",
    "    row_std = last_12_cols.std(axis=1)\n",
    "\n",
    "    # Define the threshold for ignoring values (2 standard deviations below the mean)\n",
    "    threshold = row_mean - 2 * row_std\n",
    "\n",
    "    # Mask values below the threshold and set them to NaN\n",
    "    last_12_cols = last_12_cols.mask(last_12_cols < threshold, pd.NA)\n",
    "\n",
    "    # Create a dictionary to map old column names to new column names\n",
    "    column_map = {old_col: month_name for old_col, month_name in zip(last_12_cols.columns, ['January', 'February', 'March', 'April', 'May', 'June', 'July', 'August', 'September', 'October', 'November', 'December'])}\n",
    "\n",
    "    # Rename the last 12 columns using the dictionary\n",
    "    df.rename(columns=column_map, inplace=True)\n",
    "\n",
    "    # Create new columns for the mean and median of the last 12 columns\n",
    "    df['mean_radiance'] = last_12_cols.mean(axis=1, skipna=True)\n",
    "    df['median_radiance'] = last_12_cols.median(axis=1, skipna=True)\n"
   ]
  },
  {
   "cell_type": "code",
   "execution_count": null,
   "metadata": {},
   "outputs": [],
   "source": [
    "row_std"
   ]
  },
  {
   "cell_type": "code",
   "execution_count": null,
   "metadata": {},
   "outputs": [],
   "source": [
    "n21['Year']=2021\n",
    "n19['Year']=2019\n",
    "n18['Year']=2018\n",
    "n17['Year']=2017\n",
    "n16['Year']=2016\n",
    "\n",
    "concatenated_df = pd.concat(df_list, ignore_index=True)\n",
    "\n",
    "concatenated_df"
   ]
  },
  {
   "cell_type": "markdown",
   "metadata": {},
   "source": [
    "### Dist Income"
   ]
  },
  {
   "cell_type": "code",
   "execution_count": null,
   "metadata": {},
   "outputs": [],
   "source": [
    "concatenated_df.columns"
   ]
  },
  {
   "cell_type": "code",
   "execution_count": null,
   "metadata": {},
   "outputs": [],
   "source": [
    "dist = pd.read_excel('/Users/sid/Library/CloudStorage/OneDrive-DeakinUniversity/UDocs - D/DataSets/dist_income.xlsx',sheet_name='current_prices_pc')\n",
    "dist"
   ]
  },
  {
   "cell_type": "code",
   "execution_count": null,
   "metadata": {},
   "outputs": [],
   "source": [
    "# Merge the dataframes based on 'Village_Code'\n",
    "fin = pd.merge(concatenated_df, dist, left_on=['dtname', 'Year'], right_on=['District', 'Year'], how='left')\n",
    "fin"
   ]
  },
  {
   "cell_type": "code",
   "execution_count": null,
   "metadata": {},
   "outputs": [],
   "source": [
    "# fin.to_csv('/Users/sid/OneDrive - Deakin University/UDocs - D/DataSets/ntl_dt_pc_corrected.csv',index=False)"
   ]
  }
 ],
 "metadata": {
  "language_info": {
   "name": "python"
  },
  "orig_nbformat": 4
 },
 "nbformat": 4,
 "nbformat_minor": 2
}
