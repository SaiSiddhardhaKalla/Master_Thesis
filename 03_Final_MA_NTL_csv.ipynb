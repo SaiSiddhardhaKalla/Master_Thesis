{
 "cells": [
  {
   "cell_type": "markdown",
   "metadata": {},
   "source": [
    "## Final State CSV Manipulation"
   ]
  },
  {
   "cell_type": "code",
   "execution_count": null,
   "metadata": {},
   "outputs": [],
   "source": [
    "import pandas as pd\n",
    "import numpy as np\n",
    "\n",
    "ma = pd.read_csv('/Users/sid/Library/CloudStorage/OneDrive-DeakinUniversity/UDocs - D/DataSets/MA/MA_20/_2020_ma.csv')"
   ]
  },
  {
   "cell_type": "markdown",
   "metadata": {},
   "source": [
    "### 2020 MA Files"
   ]
  },
  {
   "cell_type": "code",
   "execution_count": null,
   "metadata": {},
   "outputs": [],
   "source": [
    "sub = ma[['State:','District :',\t'Sub District :',\t'Development Block :',\n",
    "          'Gram Panchayat :',\t'Village :',\t'PIN :',\t'Total Population',\t'Male',\t'Female',\t\n",
    "          'Total Household', 'Number of households engaged majorly in Farm activities',\n",
    "          'Number of households engaged majorly in Non-Farm activities',\n",
    "          'Availability of government seed centres',\n",
    "          'Availability of Community Rain Water Harvesting System/Pond/Dam/Check Dam etc.',\n",
    "          'Availability of warehouse for Food Grain Storage',\n",
    "          'Availability of Primary Processing facilities at the village level',\n",
    "          'Availability of soil testing centres',\n",
    "          'Availability of fertilizer shop',\n",
    "          'Availability of Milk Collection Centre /Milk routes / Chilling Centres',\n",
    "          'Availability of Veterinary Clinic or Hospital',\n",
    "          'Whether the village is connected to All weather road',\n",
    "          'Whether village has internal pucca roads (cc/ brick road)',\n",
    "          'Availability of Public Transport',\n",
    "          'Availability of Railway Station',\n",
    "          'Availability of Panchayat Bhawan',\n",
    "          'Availability of Public Library',\n",
    "          'Availability of banks',\n",
    "          'Availability of ATM',\n",
    "          'Availability of Post office/Sub-Post office',\n",
    "          'Availability of Primary School',\n",
    "          'Availability of Middle School',\n",
    "          'Availability of High School',\n",
    "          'Availability of Higher/Senior Secondary School',\n",
    "          'Availability of Degree College',\n",
    "          'Availability of Vocational Training Centre/Polytechnic/ITI/RSETI /DDU-GKY',\n",
    "          'Availability of markets',\n",
    "          'Availability of Sub centre PHC/CHC',\n",
    "          'Availability of Mother and Child Health facilities',\n",
    "          \"Village_code\"\n",
    "          ]]"
   ]
  },
  {
   "cell_type": "code",
   "execution_count": null,
   "metadata": {},
   "outputs": [],
   "source": [
    "sub = sub.fillna(0)\n",
    "# Define the dictionary for replacements\n",
    "replacements = {\"Yes\": 1, \n",
    "                \"No ( Nearest facility< 1 km)\":1,\n",
    "                \"No ( Nearest facility1-2 kms)\":1,\n",
    "                \"No ( Nearest facility2-5 kms)\": 0,\n",
    "                \"No ( Nearest facility5-10 kms)\": 0,\n",
    "                \"No ( Nearest facility5-10  kms)\":0,\n",
    "                \"No ( Nearest facilityMore than 10 kms)\": 0,\n",
    "                \"No ( Nearest facilityMore  than 10 kms)\":0,\n",
    "                \"No ( Nearest facility10-20 kms)\":0,\n",
    "                \"No ( Nearest facilityMore than 20 kms)\":0,\n",
    "                \"No ( Nearest facilityMore  than 20 kms)\":0,\n",
    "                \"No\": 0 ,\n",
    "                \"No ( Nearest facility10-20  kms)\":0,\n",
    "\n",
    "                \"Not covered\":0,\n",
    "                \"Partially covered\":1,\n",
    "                \"Fully covered\":1,\n",
    "\n",
    "                \"Bus\":1,\n",
    "                \"Auto\":0,\n",
    "                \"Van\":0,\n",
    "                \"None ( Nearest facility< 1 km)\":1,\n",
    "                \"None ( Nearest facility1-2 kms)\":1,\n",
    "                \"None ( Nearest facility2-5 kms)\":0,\n",
    "                \"None ( Nearest facility5-10 kms)\":0,\n",
    "                \"None ( Nearest facilityMore than 10 kms)\":0,\n",
    "                \"None ( Nearest facility)\":0,\n",
    "                \"None ( Nearest facility< 1  km)\":0,\n",
    "                \"None ( Nearest facility1-2  kms)\":1,\n",
    "                \"None ( Nearest facility2-5  kms)\":0,\n",
    "                \"None ( Nearest facility5-10  kms)\":0,\n",
    "                \"None ( Nearest facilityMore than 10  kms)\":0,\n",
    "                \"None ( Nearest facilityMore  than 10 kms)\":0,\n",
    "\n",
    "                \"Mandis\":1,\n",
    "                \"Regular market\":1,\n",
    "                \"Weekly Haat\":1,\n",
    "\n",
    "                \"CHC\":1,\n",
    "                \"PHC\":1,\n",
    "                \"Sub Centre\":1\n",
    "\n",
    "                }\n",
    "\n",
    "# Replace values in multiple columns with the replacements\n",
    "sub2 = sub.replace(replacements)\n",
    "\n",
    "# sub2['Availability of Primary School'] = sub2['Availability of Primary School'].astype(str)\n",
    "# sub2['Availability of Primary School'] = sub2['Availability of Primary School'].replace({0: 0, r'^((?!0$).)*$': 1}, regex=True)\n",
    "\n",
    "sub2['Availability of Primary School'] = np.where(sub2['Availability of Primary School'] != 0, 1, 0)\n",
    "\n",
    "sub2"
   ]
  },
  {
   "cell_type": "code",
   "execution_count": null,
   "metadata": {},
   "outputs": [],
   "source": [
    "# sub2.to_csv(\"/Users/sid/Desktop/_MA_1.csv\",index=False)"
   ]
  },
  {
   "cell_type": "code",
   "execution_count": null,
   "metadata": {},
   "outputs": [],
   "source": [
    "sub3 = sub2.copy()\n",
    "sub3[\"Agro\"]= sub3[\"Availability of government seed centres\"]+sub3[\"Availability of Community Rain Water Harvesting System/Pond/Dam/Check Dam etc.\"]+sub3[\"Availability of warehouse for Food Grain Storage\"]+sub3[\"Availability of Primary Processing facilities at the village level\"]+sub3[\"Availability of soil testing centres\"]+sub3[\"Availability of fertilizer shop\"]+sub3[\"Availability of Milk Collection Centre /Milk routes / Chilling Centres\"]\n",
    "\n",
    "sub3[\"Roads\"] = sub3[\"Whether the village is connected to All weather road\"]+sub3[\"Whether village has internal pucca roads (cc/ brick road)\"]\n",
    "\n",
    "sub3[\"Medical\"] = sub3[\"Availability of Sub centre PHC/CHC\"]+sub3[\"Availability of Mother and Child Health facilities\"]+sub3[\"Availability of Veterinary Clinic or Hospital\"]\n",
    "\n",
    "sub3[\"Transport/Admin\"] = sub3[\"Availability of Public Transport\"]+sub3[\"Availability of Railway Station\"]+sub3[\"Availability of Panchayat Bhawan\"]+sub3[\"Availability of Public Library\"]+sub3[\"Availability of banks\"]+sub3[\"Availability of ATM\"]+sub3[\"Availability of Post office/Sub-Post office\"]+sub3[\"Availability of markets\"]\n",
    "\n",
    "sub3[\"Education\"] = sub3[\"Availability of Primary School\"]+sub3[\"Availability of Middle School\"]+sub3[\"Availability of High School\"]+sub3[\"Availability of Higher/Senior Secondary School\"]+sub3[\"Availability of Degree College\"]+sub3[\"Availability of Vocational Training Centre/Polytechnic/ITI/RSETI /DDU-GKY\"]\n",
    "\n",
    "#Dropping Education\n",
    "sub3 = sub3.drop([\"Availability of Primary School\",\n",
    "\"Availability of Middle School\",\n",
    "\"Availability of High School\",\n",
    "\"Availability of Higher/Senior Secondary School\",\n",
    "\"Availability of Degree College\",\n",
    "\"Availability of Vocational Training Centre/Polytechnic/ITI/RSETI /DDU-GKY\"],axis=1)\n",
    "\n",
    "\n",
    "#Dropping Transport\n",
    "sub3 = sub3.drop([\"Availability of Public Transport\",\n",
    "\"Availability of Railway Station\",\n",
    "\"Availability of Panchayat Bhawan\",\n",
    "\"Availability of Public Library\",\n",
    "\"Availability of banks\",\n",
    "\"Availability of ATM\",\n",
    "\"Availability of Post office/Sub-Post office\",\n",
    "\"Availability of markets\"],axis=1)\n",
    "\n",
    "#Dropping Medical\n",
    "sub3 = sub3.drop([\"Availability of Sub centre PHC/CHC\",\n",
    "\"Availability of Mother and Child Health facilities\",\n",
    "\"Availability of Veterinary Clinic or Hospital\"],axis=1)\n",
    "\n",
    "# Dropping Roads\n",
    "sub3 = sub3.drop([\"Whether the village is connected to All weather road\",\n",
    "\"Whether village has internal pucca roads (cc/ brick road)\"],axis=1)\n",
    "\n",
    "#Dropping Agro\n",
    "sub3 = sub3.drop([\"Availability of government seed centres\",\n",
    "                    \"Availability of Community Rain Water Harvesting System/Pond/Dam/Check Dam etc.\",\n",
    "                    \"Availability of warehouse for Food Grain Storage\",\n",
    "                    \"Availability of Primary Processing facilities at the village level\",\n",
    "                    \"Availability of soil testing centres\",\n",
    "                    \"Availability of fertilizer shop\",\n",
    "                    \"Availability of Milk Collection Centre /Milk routes / Chilling Centres\"],axis=1)\n",
    "sub3\n",
    "\n",
    "# Create the new column \"% of households in agri\" by dividing \"Total Household\" by \"Number of households engaged majorly in Farm activities\"\n",
    "# sub3[\"share of households in agri\"] = sub3[\"Number of households engaged majorly in Farm activities\"]/sub3[\"Total Household\"] \n",
    "\n",
    "# Replace any resulting NaN values with 0 in the new column\n",
    "# sub3[\"share of households in agri\"].fillna(0, inplace=True)\n",
    "\n",
    "sub3\n"
   ]
  },
  {
   "cell_type": "code",
   "execution_count": null,
   "metadata": {},
   "outputs": [],
   "source": [
    "# sub3.to_csv(\"/Users/sid/Desktop/_MA_2.csv\",index=False)"
   ]
  },
  {
   "cell_type": "markdown",
   "metadata": {},
   "source": [
    "### 2018 MA Files"
   ]
  },
  {
   "cell_type": "code",
   "execution_count": null,
   "metadata": {},
   "outputs": [],
   "source": [
    "ma['Village_code'] = ma['Village :'].str.extract(r'\\((\\d{6})\\)')\n",
    "ma[\"share of households in agri\"] = ma[\"% households engaged exclusively in Farm  activitie\"]/100\n",
    "\n",
    "ma = ma[ma[\"Total Population\"] != 0]\n",
    "ma"
   ]
  },
  {
   "cell_type": "code",
   "execution_count": null,
   "metadata": {},
   "outputs": [],
   "source": [
    "sub = ma[['State:',\t'District :',\t'Sub District :',\t'Development Block :',\n",
    "          'Gram Panchayat :',\t'Village :', 'Village_code','PIN :',\t\n",
    "          'Total Population',\t'Male',\t'Female',\t\n",
    "          'Total Household', \"share of households in agri\",\n",
    "          'Availability of banks','Availability of ATM',\n",
    "          'Whether the village is connected to All  weather road', 'Whether village has an internal cc/ brick  road',\n",
    "          'Availability of Public Transport','Availability of Public Distribution System  (PDS)',\n",
    "          'Availability of markets','Availability of Post office/Sub-Post office',\n",
    "          'Availability of School',\t'Availability of Vocational Educational  Centre/ITI/RSETI/DDU-GKY',\n",
    "    \t  'Availability of Sub centre /PHC/CHC', 'Availability of Veterinary Clinic Hospital', \n",
    "          'Availability of Soil Testing Centres', 'Availability of government Seed', 'Availability of Fertilizer Shop'\n",
    "          ]]"
   ]
  },
  {
   "cell_type": "code",
   "execution_count": null,
   "metadata": {},
   "outputs": [],
   "source": [
    "sub = sub.fillna(0)\n",
    "# Define the dictionary for replacements\n",
    "replacements = {\"Yes\": 1, \n",
    "                \"No ( Nearest facility< 1 Km)\":1,\n",
    "                \"No ( Nearest facility1-2  kms)\":1,\n",
    "                \"No ( Nearest facility2-5  kms)\": 0,\n",
    "                \"No ( Nearest facility5-10  Kms)\": 0,\n",
    "                \"No ( Nearest facilityMore  than 10 kms)\": 0,\n",
    "                \"No ( Nearest facility10-20 kms)\":0,\n",
    "                \"No ( Nearest facilityMore than 20 kms)\":0,\n",
    "                \"No\": 0 ,\n",
    "\n",
    "                \"Not covered\":0,\n",
    "                \"Partially covered\":1,\n",
    "                \"Fully covered\":1,\n",
    "\n",
    "                \"_\":0,\n",
    "\n",
    "                \"Bus\":1,\n",
    "                \"Auto\":0,\n",
    "                \"Van\":0,\n",
    "                \"None ( Nearest facility< 1  Km)\":1,\n",
    "                \"None ( Nearest facility1-2  kms)\":1,\n",
    "                \"None ( Nearest facility2-5  kms)\":0,\n",
    "                \"None ( Nearest facility5-10  Kms)\":0,\n",
    "                \"None ( Nearest facilityMore  than 10 kms)\":0,\n",
    "                \"None ( Nearest facilityMore than 10 kms)\":0,\n",
    "                \"None ( Nearest facility)\":0,\n",
    "\n",
    "                \"Mandis\":1,\n",
    "                \"Regular market\":1,\n",
    "                \"Weekly Haat\":1,\n",
    "\n",
    "                \"CHC\":1,\n",
    "                \"PHC\":1,\n",
    "                \"Sub Centre\":1,\n",
    "\n",
    "                \"Primary School\":1,\n",
    "                \"Middle School\":1,\n",
    "                \"High School\":1,\n",
    "                'Senior Secondary School':2,\n",
    "\n",
    "                'None':0,\n",
    "                }\n",
    "\n",
    "# Replace values in multiple columns with the replacements\n",
    "sub2 = sub.replace(replacements)\n",
    "\n",
    "# sub2['Availability of Primary School'] = sub2['Availability of Primary School'].astype(str)\n",
    "# sub2['Availability of Primary School'] = sub2['Availability of Primary School'].replace({0: 0, r'^((?!0$).)*$': 1}, regex=True)\n",
    "\n",
    "# sub2['Availability of Primary School'] = np.where(sub2['Availability of Primary School'] != 0, 1, 0)\n",
    "\n",
    "# sub2"
   ]
  },
  {
   "cell_type": "code",
   "execution_count": null,
   "metadata": {},
   "outputs": [],
   "source": [
    "# sub2.to_csv(\"/Users/sid/Documents/MA_18/Telangana_MA_1.csv\",index=False)"
   ]
  },
  {
   "cell_type": "code",
   "execution_count": null,
   "metadata": {},
   "outputs": [],
   "source": [
    "sub3 = sub2.copy()\n",
    "\n",
    "# Convert string to integers\n",
    "numeric_columns = sub3.select_dtypes(include=['object']).columns\n",
    "sub3[numeric_columns] = sub3[numeric_columns].apply(pd.to_numeric, errors='coerce').fillna(sub3[numeric_columns])\n",
    "\n",
    "sub3[\"Agro\"]= sub3['Availability of government Seed']+sub3['Availability of Fertilizer Shop']+sub3['Availability of Soil Testing Centres']\n",
    "\n",
    "sub3[\"Roads\"] = sub3['Whether the village is connected to All  weather road']+sub3['Whether village has an internal cc/ brick  road']\n",
    "\n",
    "sub3[\"Medical\"] =  sub3['Availability of Sub centre /PHC/CHC']+sub3['Availability of Veterinary Clinic Hospital']\n",
    "\n",
    "sub3[\"Transport/Admin\"] =  sub3['Availability of banks']+sub3['Availability of ATM']+sub3['Availability of Public Transport']+sub3['Availability of Public Distribution System  (PDS)']+sub3['Availability of markets']+sub3['Availability of Post office/Sub-Post office']\n",
    "\n",
    "sub3[\"Education\"] = sub3['Availability of School']+sub3['Availability of Vocational Educational  Centre/ITI/RSETI/DDU-GKY']\n",
    "\n",
    "#Dropping Education\n",
    "sub3 = sub3.drop([\"Availability of School\",\n",
    "\"Availability of Vocational Educational  Centre/ITI/RSETI/DDU-GKY\"],axis=1)\n",
    "\n",
    "\n",
    "#Dropping Transport\n",
    "sub3 = sub3.drop([\n",
    "'Availability of banks','Availability of ATM',\n",
    "'Availability of Public Transport','Availability of Public Distribution System  (PDS)',\n",
    "'Availability of markets','Availability of Post office/Sub-Post office',\n",
    "],axis=1)\n",
    "\n",
    "#Dropping Medical\n",
    "sub3 = sub3.drop([\"Availability of Sub centre /PHC/CHC\",\n",
    "\"Availability of Veterinary Clinic Hospital\",\n",
    "],axis=1)\n",
    "\n",
    "# Dropping Roads\n",
    "sub3 = sub3.drop([\"Whether the village is connected to All  weather road\",\n",
    "\"Whether village has an internal cc/ brick  road\"],axis=1)\n",
    "\n",
    "#Dropping Agro\n",
    "sub3 = sub3.drop([\"Availability of Soil Testing Centres\",\t\n",
    "'Availability of government Seed',\n",
    "'Availability of Fertilizer Shop'],axis=1)\n",
    "\n",
    "sub3\n"
   ]
  },
  {
   "cell_type": "markdown",
   "metadata": {},
   "source": [
    "### Merging NTL"
   ]
  },
  {
   "cell_type": "markdown",
   "metadata": {},
   "source": [
    "#### 2020 Data"
   ]
  },
  {
   "cell_type": "code",
   "execution_count": null,
   "metadata": {},
   "outputs": [],
   "source": [
    "ntl = pd.read_csv('/Users/sid/Library/CloudStorage/OneDrive-DeakinUniversity/UDocs - D/DataSets/VIIRS_Monthly_Tiled/2020/IN_villages_20.csv')\n",
    "# ntl = ntl[ntl['value'] != 0]\n",
    "\n",
    "# # Convert the 'Date' column to datetime format\n",
    "# ntl['year'] = pd.to_datetime(ntl['year'], format='%d/%m/%y')\n",
    "\n",
    "# # Extract the year from the datetime column\n",
    "# ntl['Year'] = ntl['year'].dt.year\n",
    "# ntl = ntl.drop([\"year\"],axis=1)\n",
    "\n",
    "columns_list = ntl.columns.tolist()\n",
    "\n",
    "# Print the list of columns\n",
    "print(columns_list)"
   ]
  },
  {
   "cell_type": "code",
   "execution_count": null,
   "metadata": {},
   "outputs": [],
   "source": [
    "# Merge the dataframes based on 'Village_Code'\n",
    "merged_df3 = pd.merge(ntl, sub3, left_on=\"village_code\",right_on='Village_code', how='left')\n",
    "\n",
    "merged_df3 = merged_df3.dropna()\n",
    "\n",
    "#Dropping extra info\n",
    "# merged_df3 = merged_df3.drop([\n",
    "#     'DTNAME.x', 'STNAME', 'SDTNAME', 'State_code',\n",
    "#      'State_Name', 'State_cens', 'District_c', 'District_N',\n",
    "#      'District_C', 'SubDistric', 'Subdistric', 'Subdistr_1',\n",
    "#      'Village_Na', 'Block_code', 'Block_Name'\n",
    "# ],axis=1)\n",
    "merged_df3"
   ]
  },
  {
   "cell_type": "code",
   "execution_count": null,
   "metadata": {},
   "outputs": [],
   "source": [
    "# merged_df3.to_csv(\"/Users/sid/Library/CloudStorage/OneDrive-DeakinUniversity/UDocs - D/DataSets/ma2020/ma_ntl_data_test.csv\",index=False)"
   ]
  },
  {
   "cell_type": "markdown",
   "metadata": {},
   "source": [
    "#### 2018 Data"
   ]
  },
  {
   "cell_type": "code",
   "execution_count": null,
   "metadata": {},
   "outputs": [],
   "source": [
    "ntl = pd.read_csv('/Users/sid/Library/CloudStorage/OneDrive-DeakinUniversity/UDocs - D/DataSets/VIIRS_Monthly_Tiled/2018/TS_2018_villages.csv')\n",
    "\n",
    "# Select the last 12 columns (excluding the first 11 columns)\n",
    "last_12_cols = ntl.iloc[:, -12:]\n",
    "\n",
    "# Replace 0 values with NaN in the last 12 columns\n",
    "last_12_cols = last_12_cols.replace(0, pd.NA)\n",
    "\n",
    "# Create new columns for the mean and median of the last 12 columns\n",
    "ntl['mean_radiance'] = last_12_cols.mean(axis=1, skipna=True)\n",
    "ntl['median_radiance'] = last_12_cols.median(axis=1, skipna=True)\n",
    "\n",
    "# Print the updated DataFrame\n",
    "ntl"
   ]
  },
  {
   "cell_type": "code",
   "execution_count": null,
   "metadata": {},
   "outputs": [],
   "source": [
    "merged_df3 = pd.merge(ntl, sub3, left_on=\"Village_co\",right_on='Village_code', how='left')\n",
    "\n",
    "merged_df3 = merged_df3.dropna()\n",
    "\n",
    "#Dropping extra info\n",
    "merged_df3 = merged_df3.drop([\n",
    "    'DTNAME.x', 'STNAME', 'SDTNAME', 'State_code',\n",
    "     'State_Name', 'State_cens', 'District_c', 'District_N',\n",
    "     'District_C', 'SubDistric', 'Subdistric', 'Subdistr_1',\n",
    "     'Village_Na', 'Block_code', 'Block_Name'\n",
    "],axis=1)\n",
    "merged_df3\n"
   ]
  },
  {
   "cell_type": "code",
   "execution_count": null,
   "metadata": {},
   "outputs": [],
   "source": [
    "# merged_df3.to_csv(\"/Users/sid/Documents/MA_pdf/_MA_Final/Bool/test7.csv\",index=False)"
   ]
  }
 ],
 "metadata": {
  "language_info": {
   "name": "python"
  },
  "orig_nbformat": 4
 },
 "nbformat": 4,
 "nbformat_minor": 2
}
