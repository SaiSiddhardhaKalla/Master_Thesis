{
 "cells": [
  {
   "cell_type": "markdown",
   "metadata": {},
   "source": [
    "## 2011 Census"
   ]
  },
  {
   "cell_type": "code",
   "execution_count": null,
   "metadata": {},
   "outputs": [],
   "source": [
    "import pandas as pd\n",
    "import numpy as np\n",
    "pd.set_option('display.max_columns', None)\n",
    "df1 = pd.read_csv('/Users/sid/Desktop/shrug_id.csv')\n",
    "df2 = pd.read_csv('/Users/sid/Desktop/LGD_villages.csv')\n",
    "census = pd.read_csv('/Users/sid/Downloads/shrug-vd11-csv/pc11_vd_clean_shrid.csv')\n",
    "ntl12 = pd.read_csv('/Users/sid/Desktop/2012.csv',low_memory=False)\n",
    "ma2 = pd.read_csv('/Users/sid/Library/CloudStorage/OneDrive-DeakinUniversity/UDocs - D/DataSets/ma2020/concatenated_data.csv',low_memory=False)"
   ]
  },
  {
   "cell_type": "markdown",
   "metadata": {},
   "source": [
    "## Load Gini"
   ]
  },
  {
   "cell_type": "code",
   "execution_count": 2,
   "metadata": {},
   "outputs": [
    {
     "name": "stdout",
     "output_type": "stream",
     "text": [
      "4134\n",
      "5251\n",
      "5796\n"
     ]
    }
   ],
   "source": [
    "import pandas as pd\n",
    "import matplotlib.pyplot as plt\n",
    "import numpy as np\n",
    "from numpy.polynomial import Polynomial\n",
    "pd.set_option('display.max_columns', None)\n",
    "\n",
    "df12 = pd.read_csv('/Users/sid/Library/CloudStorage/OneDrive-DeakinUniversity/UDocs - D/DataSets/ma2020/gini2012.csv')\n",
    "df17 = pd.read_csv('/Users/sid/Library/CloudStorage/OneDrive-DeakinUniversity/UDocs - D/DataSets/ma2020/gini2017.csv')\n",
    "df20 = pd.read_csv('/Users/sid/Library/CloudStorage/OneDrive-DeakinUniversity/UDocs - D/DataSets/ma2020/gini2020.csv')\n",
    "\n",
    "df12b = df12.rename(columns={\n",
    "                        'subdist_ntl': 'subdist_ntl12', 'subdist_population':'subdist_population12',\n",
    "                        'subdist_ntl_pc':'subdist_ntl_pc12','ntl_pc_mean':'ntl_pc_mean12',\n",
    "                        'sum_y':'sum_y12','numerator':'numerator12','num':'num12','alesina':'alesina12'\n",
    "                                    })\n",
    "\n",
    "df17b = df17.rename(columns={\n",
    "                        'subdist_ntl': 'subdist_ntl17', 'subdist_population':'subdist_population17',\n",
    "                        'subdist_ntl_pc':'subdist_ntl_pc17','ntl_pc_mean':'ntl_pc_mean17',\n",
    "                        'sum_y':'sum_y17','numerator':'numerator17','num':'num17','alesina':'alesina17'\n",
    "                                    })\n",
    "\n",
    "df20b = df20.rename(columns={\n",
    "                        'subdist_ntl': 'subdist_ntl20', 'subdist_population':'subdist_population20',\n",
    "                        'subdist_ntl_pc':'subdist_ntl_pc20','ntl_pc_mean':'ntl_pc_mean20',\n",
    "                        'sum_y':'sum_y20','numerator':'numerator20','num':'num20','alesina':'alesina20'\n",
    "                                    })\n",
    "\n",
    "\n",
    "print(len(df12b))\n",
    "print(len(df17b))\n",
    "print(len(df20b))"
   ]
  }
 ],
 "metadata": {
  "kernelspec": {
   "display_name": "base",
   "language": "python",
   "name": "python3"
  },
  "language_info": {
   "codemirror_mode": {
    "name": "ipython",
    "version": 3
   },
   "file_extension": ".py",
   "mimetype": "text/x-python",
   "name": "python",
   "nbconvert_exporter": "python",
   "pygments_lexer": "ipython3",
   "version": "3.11.4"
  }
 },
 "nbformat": 4,
 "nbformat_minor": 2
}
