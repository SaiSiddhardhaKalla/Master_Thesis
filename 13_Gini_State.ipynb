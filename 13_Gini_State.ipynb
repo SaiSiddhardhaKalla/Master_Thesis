{
 "cells": [
  {
   "cell_type": "code",
   "execution_count": null,
   "metadata": {},
   "outputs": [],
   "source": [
    "import pandas as pd\n",
    "import numpy as np\n",
    "pd.set_option('display.max_columns', None)\n",
    "df1 = pd.read_csv('/Users/sid/Desktop/shrug_id.csv')\n",
    "df2 = pd.read_csv('/Users/sid/Desktop/LGD_villages.csv')\n",
    "census = pd.read_csv('/Users/sid/Downloads/shrug-vd11-csv/pc11_vd_clean_shrid.csv')\n",
    "ntl12 = pd.read_csv('/Users/sid/Desktop/2012.csv',low_memory=False)\n",
    "ma2 = pd.read_csv('/Users/sid/Library/CloudStorage/OneDrive-DeakinUniversity/UDocs - D/DataSets/ma2020/concatenated_data.csv',low_memory=False)"
   ]
  }
 ],
 "metadata": {
  "kernelspec": {
   "display_name": "base",
   "language": "python",
   "name": "python3"
  },
  "language_info": {
   "name": "python",
   "version": "3.1.-1"
  }
 },
 "nbformat": 4,
 "nbformat_minor": 2
}
